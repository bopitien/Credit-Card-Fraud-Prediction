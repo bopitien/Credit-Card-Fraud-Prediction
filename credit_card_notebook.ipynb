{
 "cells": [
  {
   "cell_type": "code",
   "execution_count": 25,
   "metadata": {},
   "outputs": [],
   "source": [
    "import numpy as np\n",
    "import pandas as pd\n",
    "import seaborn as sns\n",
    "import matplotlib.pyplot as plt\n",
    "\n",
    "\n",
    "#data preprocessing\n",
    "from sklearn.model_selection import train_test_split\n",
    "from sklearn.preprocessing import MinMaxScaler\n",
    "\n",
    "#classifier libraries\n",
    "from sklearn.linear_model import SGDClassifier\n",
    "from sklearn.neighbors import KNeighborsClassifier\n",
    "from sklearn.ensemble import RandomForestClassifier\n",
    "from sklearn.linear_model import LogisticRegression\n",
    "\n",
    "#!pip install xgboost\n",
    "\n",
    "from xgboost import XGBClassifier\n",
    "from sklearn.svm import LinearSVC, SVC\n",
    "from sklearn.naive_bayes import GaussianNB\n",
    "from sklearn.svm import SVC\n",
    "from sklearn.tree import DecisionTreeClassifier\n",
    "\n",
    "#evaluation Metrics\n",
    "\n",
    "from sklearn.metrics import accuracy_score, precision_score, recall_score, f1_score, roc_auc_score\n",
    "from sklearn.metrics import confusion_matrix\n",
    "# Kaggle API \n",
    "import os\n",
    "import json\n",
    "import joblib\n"
   ]
  },
  {
   "cell_type": "code",
   "execution_count": 2,
   "metadata": {},
   "outputs": [],
   "source": [
    "try:\n",
    "    kaggle_credentials = json.load(open(\"kaggle.json\"))\n",
    "    os.environ['KAGGLE_USERNAME'] = kaggle_credentials[\"username\"]\n",
    "    os.environ['KAGGLE_KEY'] = kaggle_credentials[\"key\"]\n",
    "except FileNotFoundError:\n",
    "    print(\"kaggle.json file not found. Please place it in the directory.\")\n",
    "except KeyError:\n",
    "    print(\"Error: Invalid JSON format in kaggle.json.\")"
   ]
  },
  {
   "cell_type": "code",
   "execution_count": 3,
   "metadata": {},
   "outputs": [
    {
     "name": "stdout",
     "output_type": "stream",
     "text": [
      "Dataset is ready and extracted in 'CreditCardFraudDetection2023' directory.\n"
     ]
    }
   ],
   "source": [
    "import kaggle\n",
    "from zipfile import ZipFile\n",
    "\n",
    "# Define dataset name and zip file name\n",
    "dataset_name = 'CreditCardFraudDetection2023'\n",
    "zip_file_name = 'credit-card-fraud-detection-dataset-2023.zip'\n",
    "\n",
    "# Check if the dataset folder exists\n",
    "if not os.path.exists(dataset_name): \n",
    "    # Check if the zip file exists\n",
    "    if not os.path.exists(zip_file_name):\n",
    "        # Use Kaggle API to download the dataset\n",
    "        kaggle.api.dataset_download_files(\"nelgiriyewithana/credit-card-fraud-detection-dataset-2023\", path='.', unzip=False)\n",
    "        \n",
    "    # Extract the dataset if the directory doesn't exist\n",
    "    with ZipFile(zip_file_name, 'r') as zip_ref:\n",
    "        zip_ref.extractall(dataset_name)\n",
    "\n",
    "print(f\"Dataset is ready and extracted in '{dataset_name}' directory.\")\n"
   ]
  },
  {
   "cell_type": "code",
   "execution_count": 5,
   "metadata": {},
   "outputs": [
    {
     "name": "stdout",
     "output_type": "stream",
     "text": [
      "Files in the dataset directory: ['creditcard_2023.csv']\n"
     ]
    }
   ],
   "source": [
    "\n",
    "dataset_dir = 'CreditCardFraudDetection2023'\n",
    "# List files in the extracted directory\n",
    "files = os.listdir(dataset_dir)\n",
    "print(\"Files in the dataset directory:\", files)"
   ]
  },
  {
   "cell_type": "code",
   "execution_count": 6,
   "metadata": {},
   "outputs": [
    {
     "data": {
      "text/html": [
       "<div>\n",
       "<style scoped>\n",
       "    .dataframe tbody tr th:only-of-type {\n",
       "        vertical-align: middle;\n",
       "    }\n",
       "\n",
       "    .dataframe tbody tr th {\n",
       "        vertical-align: top;\n",
       "    }\n",
       "\n",
       "    .dataframe thead th {\n",
       "        text-align: right;\n",
       "    }\n",
       "</style>\n",
       "<table border=\"1\" class=\"dataframe\">\n",
       "  <thead>\n",
       "    <tr style=\"text-align: right;\">\n",
       "      <th></th>\n",
       "      <th>id</th>\n",
       "      <th>V1</th>\n",
       "      <th>V2</th>\n",
       "      <th>V3</th>\n",
       "      <th>V4</th>\n",
       "      <th>V5</th>\n",
       "      <th>V6</th>\n",
       "      <th>V7</th>\n",
       "      <th>V8</th>\n",
       "      <th>V9</th>\n",
       "      <th>...</th>\n",
       "      <th>V21</th>\n",
       "      <th>V22</th>\n",
       "      <th>V23</th>\n",
       "      <th>V24</th>\n",
       "      <th>V25</th>\n",
       "      <th>V26</th>\n",
       "      <th>V27</th>\n",
       "      <th>V28</th>\n",
       "      <th>Amount</th>\n",
       "      <th>Class</th>\n",
       "    </tr>\n",
       "  </thead>\n",
       "  <tbody>\n",
       "    <tr>\n",
       "      <th>0</th>\n",
       "      <td>0</td>\n",
       "      <td>-0.260648</td>\n",
       "      <td>-0.469648</td>\n",
       "      <td>2.496266</td>\n",
       "      <td>-0.083724</td>\n",
       "      <td>0.129681</td>\n",
       "      <td>0.732898</td>\n",
       "      <td>0.519014</td>\n",
       "      <td>-0.130006</td>\n",
       "      <td>0.727159</td>\n",
       "      <td>...</td>\n",
       "      <td>-0.110552</td>\n",
       "      <td>0.217606</td>\n",
       "      <td>-0.134794</td>\n",
       "      <td>0.165959</td>\n",
       "      <td>0.126280</td>\n",
       "      <td>-0.434824</td>\n",
       "      <td>-0.081230</td>\n",
       "      <td>-0.151045</td>\n",
       "      <td>17982.10</td>\n",
       "      <td>0</td>\n",
       "    </tr>\n",
       "    <tr>\n",
       "      <th>1</th>\n",
       "      <td>1</td>\n",
       "      <td>0.985100</td>\n",
       "      <td>-0.356045</td>\n",
       "      <td>0.558056</td>\n",
       "      <td>-0.429654</td>\n",
       "      <td>0.277140</td>\n",
       "      <td>0.428605</td>\n",
       "      <td>0.406466</td>\n",
       "      <td>-0.133118</td>\n",
       "      <td>0.347452</td>\n",
       "      <td>...</td>\n",
       "      <td>-0.194936</td>\n",
       "      <td>-0.605761</td>\n",
       "      <td>0.079469</td>\n",
       "      <td>-0.577395</td>\n",
       "      <td>0.190090</td>\n",
       "      <td>0.296503</td>\n",
       "      <td>-0.248052</td>\n",
       "      <td>-0.064512</td>\n",
       "      <td>6531.37</td>\n",
       "      <td>0</td>\n",
       "    </tr>\n",
       "    <tr>\n",
       "      <th>2</th>\n",
       "      <td>2</td>\n",
       "      <td>-0.260272</td>\n",
       "      <td>-0.949385</td>\n",
       "      <td>1.728538</td>\n",
       "      <td>-0.457986</td>\n",
       "      <td>0.074062</td>\n",
       "      <td>1.419481</td>\n",
       "      <td>0.743511</td>\n",
       "      <td>-0.095576</td>\n",
       "      <td>-0.261297</td>\n",
       "      <td>...</td>\n",
       "      <td>-0.005020</td>\n",
       "      <td>0.702906</td>\n",
       "      <td>0.945045</td>\n",
       "      <td>-1.154666</td>\n",
       "      <td>-0.605564</td>\n",
       "      <td>-0.312895</td>\n",
       "      <td>-0.300258</td>\n",
       "      <td>-0.244718</td>\n",
       "      <td>2513.54</td>\n",
       "      <td>0</td>\n",
       "    </tr>\n",
       "    <tr>\n",
       "      <th>3</th>\n",
       "      <td>3</td>\n",
       "      <td>-0.152152</td>\n",
       "      <td>-0.508959</td>\n",
       "      <td>1.746840</td>\n",
       "      <td>-1.090178</td>\n",
       "      <td>0.249486</td>\n",
       "      <td>1.143312</td>\n",
       "      <td>0.518269</td>\n",
       "      <td>-0.065130</td>\n",
       "      <td>-0.205698</td>\n",
       "      <td>...</td>\n",
       "      <td>-0.146927</td>\n",
       "      <td>-0.038212</td>\n",
       "      <td>-0.214048</td>\n",
       "      <td>-1.893131</td>\n",
       "      <td>1.003963</td>\n",
       "      <td>-0.515950</td>\n",
       "      <td>-0.165316</td>\n",
       "      <td>0.048424</td>\n",
       "      <td>5384.44</td>\n",
       "      <td>0</td>\n",
       "    </tr>\n",
       "    <tr>\n",
       "      <th>4</th>\n",
       "      <td>4</td>\n",
       "      <td>-0.206820</td>\n",
       "      <td>-0.165280</td>\n",
       "      <td>1.527053</td>\n",
       "      <td>-0.448293</td>\n",
       "      <td>0.106125</td>\n",
       "      <td>0.530549</td>\n",
       "      <td>0.658849</td>\n",
       "      <td>-0.212660</td>\n",
       "      <td>1.049921</td>\n",
       "      <td>...</td>\n",
       "      <td>-0.106984</td>\n",
       "      <td>0.729727</td>\n",
       "      <td>-0.161666</td>\n",
       "      <td>0.312561</td>\n",
       "      <td>-0.414116</td>\n",
       "      <td>1.071126</td>\n",
       "      <td>0.023712</td>\n",
       "      <td>0.419117</td>\n",
       "      <td>14278.97</td>\n",
       "      <td>0</td>\n",
       "    </tr>\n",
       "  </tbody>\n",
       "</table>\n",
       "<p>5 rows × 31 columns</p>\n",
       "</div>"
      ],
      "text/plain": [
       "   id        V1        V2        V3        V4        V5        V6        V7  \\\n",
       "0   0 -0.260648 -0.469648  2.496266 -0.083724  0.129681  0.732898  0.519014   \n",
       "1   1  0.985100 -0.356045  0.558056 -0.429654  0.277140  0.428605  0.406466   \n",
       "2   2 -0.260272 -0.949385  1.728538 -0.457986  0.074062  1.419481  0.743511   \n",
       "3   3 -0.152152 -0.508959  1.746840 -1.090178  0.249486  1.143312  0.518269   \n",
       "4   4 -0.206820 -0.165280  1.527053 -0.448293  0.106125  0.530549  0.658849   \n",
       "\n",
       "         V8        V9  ...       V21       V22       V23       V24       V25  \\\n",
       "0 -0.130006  0.727159  ... -0.110552  0.217606 -0.134794  0.165959  0.126280   \n",
       "1 -0.133118  0.347452  ... -0.194936 -0.605761  0.079469 -0.577395  0.190090   \n",
       "2 -0.095576 -0.261297  ... -0.005020  0.702906  0.945045 -1.154666 -0.605564   \n",
       "3 -0.065130 -0.205698  ... -0.146927 -0.038212 -0.214048 -1.893131  1.003963   \n",
       "4 -0.212660  1.049921  ... -0.106984  0.729727 -0.161666  0.312561 -0.414116   \n",
       "\n",
       "        V26       V27       V28    Amount  Class  \n",
       "0 -0.434824 -0.081230 -0.151045  17982.10      0  \n",
       "1  0.296503 -0.248052 -0.064512   6531.37      0  \n",
       "2 -0.312895 -0.300258 -0.244718   2513.54      0  \n",
       "3 -0.515950 -0.165316  0.048424   5384.44      0  \n",
       "4  1.071126  0.023712  0.419117  14278.97      0  \n",
       "\n",
       "[5 rows x 31 columns]"
      ]
     },
     "execution_count": 6,
     "metadata": {},
     "output_type": "execute_result"
    }
   ],
   "source": [
    "file_path = 'CreditCardFraudDetection2023/creditcard_2023.csv'\n",
    "df = pd.read_csv(file_path)\n",
    "df.head()"
   ]
  },
  {
   "cell_type": "code",
   "execution_count": 7,
   "metadata": {},
   "outputs": [
    {
     "name": "stdout",
     "output_type": "stream",
     "text": [
      "<class 'pandas.core.frame.DataFrame'>\n",
      "RangeIndex: 568630 entries, 0 to 568629\n",
      "Data columns (total 31 columns):\n",
      " #   Column  Non-Null Count   Dtype  \n",
      "---  ------  --------------   -----  \n",
      " 0   id      568630 non-null  int64  \n",
      " 1   V1      568630 non-null  float64\n",
      " 2   V2      568630 non-null  float64\n",
      " 3   V3      568630 non-null  float64\n",
      " 4   V4      568630 non-null  float64\n",
      " 5   V5      568630 non-null  float64\n",
      " 6   V6      568630 non-null  float64\n",
      " 7   V7      568630 non-null  float64\n",
      " 8   V8      568630 non-null  float64\n",
      " 9   V9      568630 non-null  float64\n",
      " 10  V10     568630 non-null  float64\n",
      " 11  V11     568630 non-null  float64\n",
      " 12  V12     568630 non-null  float64\n",
      " 13  V13     568630 non-null  float64\n",
      " 14  V14     568630 non-null  float64\n",
      " 15  V15     568630 non-null  float64\n",
      " 16  V16     568630 non-null  float64\n",
      " 17  V17     568630 non-null  float64\n",
      " 18  V18     568630 non-null  float64\n",
      " 19  V19     568630 non-null  float64\n",
      " 20  V20     568630 non-null  float64\n",
      " 21  V21     568630 non-null  float64\n",
      " 22  V22     568630 non-null  float64\n",
      " 23  V23     568630 non-null  float64\n",
      " 24  V24     568630 non-null  float64\n",
      " 25  V25     568630 non-null  float64\n",
      " 26  V26     568630 non-null  float64\n",
      " 27  V27     568630 non-null  float64\n",
      " 28  V28     568630 non-null  float64\n",
      " 29  Amount  568630 non-null  float64\n",
      " 30  Class   568630 non-null  int64  \n",
      "dtypes: float64(29), int64(2)\n",
      "memory usage: 134.5 MB\n"
     ]
    }
   ],
   "source": [
    "#dataset information\n",
    "df.info()"
   ]
  },
  {
   "cell_type": "code",
   "execution_count": 8,
   "metadata": {},
   "outputs": [
    {
     "data": {
      "text/plain": [
       "id        0\n",
       "V1        0\n",
       "V2        0\n",
       "V3        0\n",
       "V4        0\n",
       "V5        0\n",
       "V6        0\n",
       "V7        0\n",
       "V8        0\n",
       "V9        0\n",
       "V10       0\n",
       "V11       0\n",
       "V12       0\n",
       "V13       0\n",
       "V14       0\n",
       "V15       0\n",
       "V16       0\n",
       "V17       0\n",
       "V18       0\n",
       "V19       0\n",
       "V20       0\n",
       "V21       0\n",
       "V22       0\n",
       "V23       0\n",
       "V24       0\n",
       "V25       0\n",
       "V26       0\n",
       "V27       0\n",
       "V28       0\n",
       "Amount    0\n",
       "Class     0\n",
       "dtype: int64"
      ]
     },
     "execution_count": 8,
     "metadata": {},
     "output_type": "execute_result"
    }
   ],
   "source": [
    "df.isnull().sum()"
   ]
  },
  {
   "cell_type": "code",
   "execution_count": 9,
   "metadata": {},
   "outputs": [
    {
     "data": {
      "text/plain": [
       "(568630, 31)"
      ]
     },
     "execution_count": 9,
     "metadata": {},
     "output_type": "execute_result"
    }
   ],
   "source": [
    "df.shape"
   ]
  },
  {
   "cell_type": "code",
   "execution_count": 10,
   "metadata": {},
   "outputs": [
    {
     "data": {
      "text/plain": [
       "Class\n",
       "0    284315\n",
       "1    284315\n",
       "Name: count, dtype: int64"
      ]
     },
     "execution_count": 10,
     "metadata": {},
     "output_type": "execute_result"
    }
   ],
   "source": [
    "# distribution of legit transactions & fraudulent transactions\n",
    "df['Class'].value_counts()"
   ]
  },
  {
   "cell_type": "markdown",
   "metadata": {},
   "source": [
    "This Dataset is blanced\n",
    "\n",
    "0 -- Normal Transaction\n",
    "\n",
    "1 -- fraudulent transaction"
   ]
  },
  {
   "cell_type": "code",
   "execution_count": 11,
   "metadata": {},
   "outputs": [
    {
     "data": {
      "text/html": [
       "<div>\n",
       "<style scoped>\n",
       "    .dataframe tbody tr th:only-of-type {\n",
       "        vertical-align: middle;\n",
       "    }\n",
       "\n",
       "    .dataframe tbody tr th {\n",
       "        vertical-align: top;\n",
       "    }\n",
       "\n",
       "    .dataframe thead th {\n",
       "        text-align: right;\n",
       "    }\n",
       "</style>\n",
       "<table border=\"1\" class=\"dataframe\">\n",
       "  <thead>\n",
       "    <tr style=\"text-align: right;\">\n",
       "      <th></th>\n",
       "      <th>id</th>\n",
       "      <th>V1</th>\n",
       "      <th>V2</th>\n",
       "      <th>V3</th>\n",
       "      <th>V4</th>\n",
       "      <th>V5</th>\n",
       "      <th>V6</th>\n",
       "      <th>V7</th>\n",
       "      <th>V8</th>\n",
       "      <th>V9</th>\n",
       "      <th>...</th>\n",
       "      <th>V21</th>\n",
       "      <th>V22</th>\n",
       "      <th>V23</th>\n",
       "      <th>V24</th>\n",
       "      <th>V25</th>\n",
       "      <th>V26</th>\n",
       "      <th>V27</th>\n",
       "      <th>V28</th>\n",
       "      <th>Amount</th>\n",
       "      <th>Class</th>\n",
       "    </tr>\n",
       "  </thead>\n",
       "  <tbody>\n",
       "    <tr>\n",
       "      <th>count</th>\n",
       "      <td>568630.000000</td>\n",
       "      <td>5.686300e+05</td>\n",
       "      <td>5.686300e+05</td>\n",
       "      <td>5.686300e+05</td>\n",
       "      <td>5.686300e+05</td>\n",
       "      <td>5.686300e+05</td>\n",
       "      <td>5.686300e+05</td>\n",
       "      <td>5.686300e+05</td>\n",
       "      <td>5.686300e+05</td>\n",
       "      <td>5.686300e+05</td>\n",
       "      <td>...</td>\n",
       "      <td>5.686300e+05</td>\n",
       "      <td>5.686300e+05</td>\n",
       "      <td>5.686300e+05</td>\n",
       "      <td>5.686300e+05</td>\n",
       "      <td>5.686300e+05</td>\n",
       "      <td>5.686300e+05</td>\n",
       "      <td>5.686300e+05</td>\n",
       "      <td>5.686300e+05</td>\n",
       "      <td>568630.000000</td>\n",
       "      <td>568630.0</td>\n",
       "    </tr>\n",
       "    <tr>\n",
       "      <th>mean</th>\n",
       "      <td>284314.500000</td>\n",
       "      <td>-5.638058e-17</td>\n",
       "      <td>-1.319545e-16</td>\n",
       "      <td>-3.518788e-17</td>\n",
       "      <td>-2.879008e-17</td>\n",
       "      <td>7.997245e-18</td>\n",
       "      <td>-3.958636e-17</td>\n",
       "      <td>-3.198898e-17</td>\n",
       "      <td>2.109273e-17</td>\n",
       "      <td>3.998623e-17</td>\n",
       "      <td>...</td>\n",
       "      <td>4.758361e-17</td>\n",
       "      <td>3.948640e-18</td>\n",
       "      <td>6.194741e-18</td>\n",
       "      <td>-2.799036e-18</td>\n",
       "      <td>-3.178905e-17</td>\n",
       "      <td>-7.497417e-18</td>\n",
       "      <td>-3.598760e-17</td>\n",
       "      <td>2.609101e-17</td>\n",
       "      <td>12041.957635</td>\n",
       "      <td>0.5</td>\n",
       "    </tr>\n",
       "    <tr>\n",
       "      <th>std</th>\n",
       "      <td>164149.486122</td>\n",
       "      <td>1.000001e+00</td>\n",
       "      <td>1.000001e+00</td>\n",
       "      <td>1.000001e+00</td>\n",
       "      <td>1.000001e+00</td>\n",
       "      <td>1.000001e+00</td>\n",
       "      <td>1.000001e+00</td>\n",
       "      <td>1.000001e+00</td>\n",
       "      <td>1.000001e+00</td>\n",
       "      <td>1.000001e+00</td>\n",
       "      <td>...</td>\n",
       "      <td>1.000001e+00</td>\n",
       "      <td>1.000001e+00</td>\n",
       "      <td>1.000001e+00</td>\n",
       "      <td>1.000001e+00</td>\n",
       "      <td>1.000001e+00</td>\n",
       "      <td>1.000001e+00</td>\n",
       "      <td>1.000001e+00</td>\n",
       "      <td>1.000001e+00</td>\n",
       "      <td>6919.644449</td>\n",
       "      <td>0.5</td>\n",
       "    </tr>\n",
       "    <tr>\n",
       "      <th>min</th>\n",
       "      <td>0.000000</td>\n",
       "      <td>-3.495584e+00</td>\n",
       "      <td>-4.996657e+01</td>\n",
       "      <td>-3.183760e+00</td>\n",
       "      <td>-4.951222e+00</td>\n",
       "      <td>-9.952786e+00</td>\n",
       "      <td>-2.111111e+01</td>\n",
       "      <td>-4.351839e+00</td>\n",
       "      <td>-1.075634e+01</td>\n",
       "      <td>-3.751919e+00</td>\n",
       "      <td>...</td>\n",
       "      <td>-1.938252e+01</td>\n",
       "      <td>-7.734798e+00</td>\n",
       "      <td>-3.029545e+01</td>\n",
       "      <td>-4.067968e+00</td>\n",
       "      <td>-1.361263e+01</td>\n",
       "      <td>-8.226969e+00</td>\n",
       "      <td>-1.049863e+01</td>\n",
       "      <td>-3.903524e+01</td>\n",
       "      <td>50.010000</td>\n",
       "      <td>0.0</td>\n",
       "    </tr>\n",
       "    <tr>\n",
       "      <th>25%</th>\n",
       "      <td>142157.250000</td>\n",
       "      <td>-5.652859e-01</td>\n",
       "      <td>-4.866777e-01</td>\n",
       "      <td>-6.492987e-01</td>\n",
       "      <td>-6.560203e-01</td>\n",
       "      <td>-2.934955e-01</td>\n",
       "      <td>-4.458712e-01</td>\n",
       "      <td>-2.835329e-01</td>\n",
       "      <td>-1.922572e-01</td>\n",
       "      <td>-5.687446e-01</td>\n",
       "      <td>...</td>\n",
       "      <td>-1.664408e-01</td>\n",
       "      <td>-4.904892e-01</td>\n",
       "      <td>-2.376289e-01</td>\n",
       "      <td>-6.515801e-01</td>\n",
       "      <td>-5.541485e-01</td>\n",
       "      <td>-6.318948e-01</td>\n",
       "      <td>-3.049607e-01</td>\n",
       "      <td>-2.318783e-01</td>\n",
       "      <td>6054.892500</td>\n",
       "      <td>0.0</td>\n",
       "    </tr>\n",
       "    <tr>\n",
       "      <th>50%</th>\n",
       "      <td>284314.500000</td>\n",
       "      <td>-9.363846e-02</td>\n",
       "      <td>-1.358939e-01</td>\n",
       "      <td>3.528579e-04</td>\n",
       "      <td>-7.376152e-02</td>\n",
       "      <td>8.108788e-02</td>\n",
       "      <td>7.871758e-02</td>\n",
       "      <td>2.333659e-01</td>\n",
       "      <td>-1.145242e-01</td>\n",
       "      <td>9.252647e-02</td>\n",
       "      <td>...</td>\n",
       "      <td>-3.743065e-02</td>\n",
       "      <td>-2.732881e-02</td>\n",
       "      <td>-5.968903e-02</td>\n",
       "      <td>1.590123e-02</td>\n",
       "      <td>-8.193162e-03</td>\n",
       "      <td>-1.189208e-02</td>\n",
       "      <td>-1.729111e-01</td>\n",
       "      <td>-1.392973e-02</td>\n",
       "      <td>12030.150000</td>\n",
       "      <td>0.5</td>\n",
       "    </tr>\n",
       "    <tr>\n",
       "      <th>75%</th>\n",
       "      <td>426471.750000</td>\n",
       "      <td>8.326582e-01</td>\n",
       "      <td>3.435552e-01</td>\n",
       "      <td>6.285380e-01</td>\n",
       "      <td>7.070047e-01</td>\n",
       "      <td>4.397368e-01</td>\n",
       "      <td>4.977881e-01</td>\n",
       "      <td>5.259548e-01</td>\n",
       "      <td>4.729905e-02</td>\n",
       "      <td>5.592621e-01</td>\n",
       "      <td>...</td>\n",
       "      <td>1.479787e-01</td>\n",
       "      <td>4.638817e-01</td>\n",
       "      <td>1.557153e-01</td>\n",
       "      <td>7.007374e-01</td>\n",
       "      <td>5.500147e-01</td>\n",
       "      <td>6.728879e-01</td>\n",
       "      <td>3.340230e-01</td>\n",
       "      <td>4.095903e-01</td>\n",
       "      <td>18036.330000</td>\n",
       "      <td>1.0</td>\n",
       "    </tr>\n",
       "    <tr>\n",
       "      <th>max</th>\n",
       "      <td>568629.000000</td>\n",
       "      <td>2.229046e+00</td>\n",
       "      <td>4.361865e+00</td>\n",
       "      <td>1.412583e+01</td>\n",
       "      <td>3.201536e+00</td>\n",
       "      <td>4.271689e+01</td>\n",
       "      <td>2.616840e+01</td>\n",
       "      <td>2.178730e+02</td>\n",
       "      <td>5.958040e+00</td>\n",
       "      <td>2.027006e+01</td>\n",
       "      <td>...</td>\n",
       "      <td>8.087080e+00</td>\n",
       "      <td>1.263251e+01</td>\n",
       "      <td>3.170763e+01</td>\n",
       "      <td>1.296564e+01</td>\n",
       "      <td>1.462151e+01</td>\n",
       "      <td>5.623285e+00</td>\n",
       "      <td>1.132311e+02</td>\n",
       "      <td>7.725594e+01</td>\n",
       "      <td>24039.930000</td>\n",
       "      <td>1.0</td>\n",
       "    </tr>\n",
       "  </tbody>\n",
       "</table>\n",
       "<p>8 rows × 31 columns</p>\n",
       "</div>"
      ],
      "text/plain": [
       "                  id            V1            V2            V3            V4  \\\n",
       "count  568630.000000  5.686300e+05  5.686300e+05  5.686300e+05  5.686300e+05   \n",
       "mean   284314.500000 -5.638058e-17 -1.319545e-16 -3.518788e-17 -2.879008e-17   \n",
       "std    164149.486122  1.000001e+00  1.000001e+00  1.000001e+00  1.000001e+00   \n",
       "min         0.000000 -3.495584e+00 -4.996657e+01 -3.183760e+00 -4.951222e+00   \n",
       "25%    142157.250000 -5.652859e-01 -4.866777e-01 -6.492987e-01 -6.560203e-01   \n",
       "50%    284314.500000 -9.363846e-02 -1.358939e-01  3.528579e-04 -7.376152e-02   \n",
       "75%    426471.750000  8.326582e-01  3.435552e-01  6.285380e-01  7.070047e-01   \n",
       "max    568629.000000  2.229046e+00  4.361865e+00  1.412583e+01  3.201536e+00   \n",
       "\n",
       "                 V5            V6            V7            V8            V9  \\\n",
       "count  5.686300e+05  5.686300e+05  5.686300e+05  5.686300e+05  5.686300e+05   \n",
       "mean   7.997245e-18 -3.958636e-17 -3.198898e-17  2.109273e-17  3.998623e-17   \n",
       "std    1.000001e+00  1.000001e+00  1.000001e+00  1.000001e+00  1.000001e+00   \n",
       "min   -9.952786e+00 -2.111111e+01 -4.351839e+00 -1.075634e+01 -3.751919e+00   \n",
       "25%   -2.934955e-01 -4.458712e-01 -2.835329e-01 -1.922572e-01 -5.687446e-01   \n",
       "50%    8.108788e-02  7.871758e-02  2.333659e-01 -1.145242e-01  9.252647e-02   \n",
       "75%    4.397368e-01  4.977881e-01  5.259548e-01  4.729905e-02  5.592621e-01   \n",
       "max    4.271689e+01  2.616840e+01  2.178730e+02  5.958040e+00  2.027006e+01   \n",
       "\n",
       "       ...           V21           V22           V23           V24  \\\n",
       "count  ...  5.686300e+05  5.686300e+05  5.686300e+05  5.686300e+05   \n",
       "mean   ...  4.758361e-17  3.948640e-18  6.194741e-18 -2.799036e-18   \n",
       "std    ...  1.000001e+00  1.000001e+00  1.000001e+00  1.000001e+00   \n",
       "min    ... -1.938252e+01 -7.734798e+00 -3.029545e+01 -4.067968e+00   \n",
       "25%    ... -1.664408e-01 -4.904892e-01 -2.376289e-01 -6.515801e-01   \n",
       "50%    ... -3.743065e-02 -2.732881e-02 -5.968903e-02  1.590123e-02   \n",
       "75%    ...  1.479787e-01  4.638817e-01  1.557153e-01  7.007374e-01   \n",
       "max    ...  8.087080e+00  1.263251e+01  3.170763e+01  1.296564e+01   \n",
       "\n",
       "                V25           V26           V27           V28         Amount  \\\n",
       "count  5.686300e+05  5.686300e+05  5.686300e+05  5.686300e+05  568630.000000   \n",
       "mean  -3.178905e-17 -7.497417e-18 -3.598760e-17  2.609101e-17   12041.957635   \n",
       "std    1.000001e+00  1.000001e+00  1.000001e+00  1.000001e+00    6919.644449   \n",
       "min   -1.361263e+01 -8.226969e+00 -1.049863e+01 -3.903524e+01      50.010000   \n",
       "25%   -5.541485e-01 -6.318948e-01 -3.049607e-01 -2.318783e-01    6054.892500   \n",
       "50%   -8.193162e-03 -1.189208e-02 -1.729111e-01 -1.392973e-02   12030.150000   \n",
       "75%    5.500147e-01  6.728879e-01  3.340230e-01  4.095903e-01   18036.330000   \n",
       "max    1.462151e+01  5.623285e+00  1.132311e+02  7.725594e+01   24039.930000   \n",
       "\n",
       "          Class  \n",
       "count  568630.0  \n",
       "mean        0.5  \n",
       "std         0.5  \n",
       "min         0.0  \n",
       "25%         0.0  \n",
       "50%         0.5  \n",
       "75%         1.0  \n",
       "max         1.0  \n",
       "\n",
       "[8 rows x 31 columns]"
      ]
     },
     "execution_count": 11,
     "metadata": {},
     "output_type": "execute_result"
    }
   ],
   "source": [
    "df.describe()"
   ]
  },
  {
   "cell_type": "markdown",
   "metadata": {},
   "source": [
    "We can feed this data to the model because it is highly balanced "
   ]
  },
  {
   "cell_type": "code",
   "execution_count": 12,
   "metadata": {},
   "outputs": [
    {
     "name": "stdout",
     "output_type": "stream",
     "text": [
      "Descriptive statistics for non-fraudulent transactions (Class 0):\n",
      "count    284315.000000\n",
      "mean      12026.313506\n",
      "std        6929.500715\n",
      "min          50.120000\n",
      "25%        6034.540000\n",
      "50%       11996.900000\n",
      "75%       18040.265000\n",
      "max       24039.930000\n",
      "Name: Amount, dtype: float64\n",
      "\n",
      "Descriptive statistics for fraudulent transactions (Class 1):\n",
      "count    284315.000000\n",
      "mean      12057.601763\n",
      "std        6909.750891\n",
      "min          50.010000\n",
      "25%        6074.640000\n",
      "50%       12062.450000\n",
      "75%       18033.780000\n",
      "max       24039.930000\n",
      "Name: Amount, dtype: float64\n"
     ]
    }
   ],
   "source": [
    "# Descriptive statistics for 'Amount' where 'Class' is 0 (non-fraudulent)\n",
    "non_fraud_stats = df[df['Class'] == 0]['Amount'].describe()\n",
    "print(\"Descriptive statistics for non-fraudulent transactions (Class 0):\")\n",
    "print(non_fraud_stats)\n",
    "\n",
    "# Descriptive statistics for 'Amount' where 'Class' is 1 (fraudulent)\n",
    "fraud_stats = df[df['Class'] == 1]['Amount'].describe()\n",
    "print(\"\\nDescriptive statistics for fraudulent transactions (Class 1):\")\n",
    "print(fraud_stats)\n"
   ]
  },
  {
   "cell_type": "code",
   "execution_count": 13,
   "metadata": {},
   "outputs": [
    {
     "name": "stdout",
     "output_type": "stream",
     "text": [
      "Number of duplicate rows: 0\n",
      "No duplicate rows found.\n"
     ]
    }
   ],
   "source": [
    "# Check for duplicate rows in the entire dataset\n",
    "duplicate_rows = df.duplicated()\n",
    "\n",
    "# Count the number of duplicate rows\n",
    "num_duplicates = duplicate_rows.sum()\n",
    "print(f\"Number of duplicate rows: {num_duplicates}\")\n",
    "\n",
    "# Display the duplicate rows if there are any\n",
    "if num_duplicates > 0:\n",
    "    print(\"\\nDuplicate rows:\")\n",
    "    print(df[duplicate_rows])\n",
    "else:\n",
    "    print(\"No duplicate rows found.\")\n"
   ]
  },
  {
   "cell_type": "markdown",
   "metadata": {},
   "source": [
    "### Balanced Dataset\n",
    "\n",
    "This project uses a balanced dataset for credit card fraud detection, with an equal number of fraudulent and non-fraudulent transactions. \n",
    "\n",
    "**Note**: In real-world scenarios, credit card fraud datasets are typically highly imbalanced, with fraudulent transactions making up a small fraction of the total. The balanced nature of this dataset is intentional and is used here for **learning purposes** to simplify the modeling process. \n",
    "\n",
    "If applying these techniques to real-world data, additional steps such as resampling, class weighting, or using algorithms that handle imbalance effectively will be necessary to achieve accurate results.\n"
   ]
  },
  {
   "cell_type": "code",
   "execution_count": 14,
   "metadata": {},
   "outputs": [
    {
     "data": {
      "text/html": [
       "<div>\n",
       "<style scoped>\n",
       "    .dataframe tbody tr th:only-of-type {\n",
       "        vertical-align: middle;\n",
       "    }\n",
       "\n",
       "    .dataframe tbody tr th {\n",
       "        vertical-align: top;\n",
       "    }\n",
       "\n",
       "    .dataframe thead th {\n",
       "        text-align: right;\n",
       "    }\n",
       "</style>\n",
       "<table border=\"1\" class=\"dataframe\">\n",
       "  <thead>\n",
       "    <tr style=\"text-align: right;\">\n",
       "      <th></th>\n",
       "      <th>id</th>\n",
       "      <th>V1</th>\n",
       "      <th>V2</th>\n",
       "      <th>V3</th>\n",
       "      <th>V4</th>\n",
       "      <th>V5</th>\n",
       "      <th>V6</th>\n",
       "      <th>V7</th>\n",
       "      <th>V8</th>\n",
       "      <th>V9</th>\n",
       "      <th>...</th>\n",
       "      <th>V21</th>\n",
       "      <th>V22</th>\n",
       "      <th>V23</th>\n",
       "      <th>V24</th>\n",
       "      <th>V25</th>\n",
       "      <th>V26</th>\n",
       "      <th>V27</th>\n",
       "      <th>V28</th>\n",
       "      <th>Amount</th>\n",
       "      <th>Class</th>\n",
       "    </tr>\n",
       "  </thead>\n",
       "  <tbody>\n",
       "    <tr>\n",
       "      <th>0</th>\n",
       "      <td>0</td>\n",
       "      <td>-0.260648</td>\n",
       "      <td>-0.469648</td>\n",
       "      <td>2.496266</td>\n",
       "      <td>-0.083724</td>\n",
       "      <td>0.129681</td>\n",
       "      <td>0.732898</td>\n",
       "      <td>0.519014</td>\n",
       "      <td>-0.130006</td>\n",
       "      <td>0.727159</td>\n",
       "      <td>...</td>\n",
       "      <td>-0.110552</td>\n",
       "      <td>0.217606</td>\n",
       "      <td>-0.134794</td>\n",
       "      <td>0.165959</td>\n",
       "      <td>0.126280</td>\n",
       "      <td>-0.434824</td>\n",
       "      <td>-0.081230</td>\n",
       "      <td>-0.151045</td>\n",
       "      <td>17982.10</td>\n",
       "      <td>0</td>\n",
       "    </tr>\n",
       "    <tr>\n",
       "      <th>1</th>\n",
       "      <td>1</td>\n",
       "      <td>0.985100</td>\n",
       "      <td>-0.356045</td>\n",
       "      <td>0.558056</td>\n",
       "      <td>-0.429654</td>\n",
       "      <td>0.277140</td>\n",
       "      <td>0.428605</td>\n",
       "      <td>0.406466</td>\n",
       "      <td>-0.133118</td>\n",
       "      <td>0.347452</td>\n",
       "      <td>...</td>\n",
       "      <td>-0.194936</td>\n",
       "      <td>-0.605761</td>\n",
       "      <td>0.079469</td>\n",
       "      <td>-0.577395</td>\n",
       "      <td>0.190090</td>\n",
       "      <td>0.296503</td>\n",
       "      <td>-0.248052</td>\n",
       "      <td>-0.064512</td>\n",
       "      <td>6531.37</td>\n",
       "      <td>0</td>\n",
       "    </tr>\n",
       "    <tr>\n",
       "      <th>2</th>\n",
       "      <td>2</td>\n",
       "      <td>-0.260272</td>\n",
       "      <td>-0.949385</td>\n",
       "      <td>1.728538</td>\n",
       "      <td>-0.457986</td>\n",
       "      <td>0.074062</td>\n",
       "      <td>1.419481</td>\n",
       "      <td>0.743511</td>\n",
       "      <td>-0.095576</td>\n",
       "      <td>-0.261297</td>\n",
       "      <td>...</td>\n",
       "      <td>-0.005020</td>\n",
       "      <td>0.702906</td>\n",
       "      <td>0.945045</td>\n",
       "      <td>-1.154666</td>\n",
       "      <td>-0.605564</td>\n",
       "      <td>-0.312895</td>\n",
       "      <td>-0.300258</td>\n",
       "      <td>-0.244718</td>\n",
       "      <td>2513.54</td>\n",
       "      <td>0</td>\n",
       "    </tr>\n",
       "    <tr>\n",
       "      <th>3</th>\n",
       "      <td>3</td>\n",
       "      <td>-0.152152</td>\n",
       "      <td>-0.508959</td>\n",
       "      <td>1.746840</td>\n",
       "      <td>-1.090178</td>\n",
       "      <td>0.249486</td>\n",
       "      <td>1.143312</td>\n",
       "      <td>0.518269</td>\n",
       "      <td>-0.065130</td>\n",
       "      <td>-0.205698</td>\n",
       "      <td>...</td>\n",
       "      <td>-0.146927</td>\n",
       "      <td>-0.038212</td>\n",
       "      <td>-0.214048</td>\n",
       "      <td>-1.893131</td>\n",
       "      <td>1.003963</td>\n",
       "      <td>-0.515950</td>\n",
       "      <td>-0.165316</td>\n",
       "      <td>0.048424</td>\n",
       "      <td>5384.44</td>\n",
       "      <td>0</td>\n",
       "    </tr>\n",
       "    <tr>\n",
       "      <th>4</th>\n",
       "      <td>4</td>\n",
       "      <td>-0.206820</td>\n",
       "      <td>-0.165280</td>\n",
       "      <td>1.527053</td>\n",
       "      <td>-0.448293</td>\n",
       "      <td>0.106125</td>\n",
       "      <td>0.530549</td>\n",
       "      <td>0.658849</td>\n",
       "      <td>-0.212660</td>\n",
       "      <td>1.049921</td>\n",
       "      <td>...</td>\n",
       "      <td>-0.106984</td>\n",
       "      <td>0.729727</td>\n",
       "      <td>-0.161666</td>\n",
       "      <td>0.312561</td>\n",
       "      <td>-0.414116</td>\n",
       "      <td>1.071126</td>\n",
       "      <td>0.023712</td>\n",
       "      <td>0.419117</td>\n",
       "      <td>14278.97</td>\n",
       "      <td>0</td>\n",
       "    </tr>\n",
       "  </tbody>\n",
       "</table>\n",
       "<p>5 rows × 31 columns</p>\n",
       "</div>"
      ],
      "text/plain": [
       "   id        V1        V2        V3        V4        V5        V6        V7  \\\n",
       "0   0 -0.260648 -0.469648  2.496266 -0.083724  0.129681  0.732898  0.519014   \n",
       "1   1  0.985100 -0.356045  0.558056 -0.429654  0.277140  0.428605  0.406466   \n",
       "2   2 -0.260272 -0.949385  1.728538 -0.457986  0.074062  1.419481  0.743511   \n",
       "3   3 -0.152152 -0.508959  1.746840 -1.090178  0.249486  1.143312  0.518269   \n",
       "4   4 -0.206820 -0.165280  1.527053 -0.448293  0.106125  0.530549  0.658849   \n",
       "\n",
       "         V8        V9  ...       V21       V22       V23       V24       V25  \\\n",
       "0 -0.130006  0.727159  ... -0.110552  0.217606 -0.134794  0.165959  0.126280   \n",
       "1 -0.133118  0.347452  ... -0.194936 -0.605761  0.079469 -0.577395  0.190090   \n",
       "2 -0.095576 -0.261297  ... -0.005020  0.702906  0.945045 -1.154666 -0.605564   \n",
       "3 -0.065130 -0.205698  ... -0.146927 -0.038212 -0.214048 -1.893131  1.003963   \n",
       "4 -0.212660  1.049921  ... -0.106984  0.729727 -0.161666  0.312561 -0.414116   \n",
       "\n",
       "        V26       V27       V28    Amount  Class  \n",
       "0 -0.434824 -0.081230 -0.151045  17982.10      0  \n",
       "1  0.296503 -0.248052 -0.064512   6531.37      0  \n",
       "2 -0.312895 -0.300258 -0.244718   2513.54      0  \n",
       "3 -0.515950 -0.165316  0.048424   5384.44      0  \n",
       "4  1.071126  0.023712  0.419117  14278.97      0  \n",
       "\n",
       "[5 rows x 31 columns]"
      ]
     },
     "execution_count": 14,
     "metadata": {},
     "output_type": "execute_result"
    }
   ],
   "source": [
    "df.head()"
   ]
  },
  {
   "cell_type": "markdown",
   "metadata": {},
   "source": [
    "### Take a 20% random Sample"
   ]
  },
  {
   "cell_type": "code",
   "execution_count": 28,
   "metadata": {},
   "outputs": [
    {
     "name": "stdout",
     "output_type": "stream",
     "text": [
      "(113726, 31)\n"
     ]
    }
   ],
   "source": [
    "# Reduce the dataset size by taking a random sample (e.g., 20% of the data)\n",
    "sampled_df = df.sample(frac=0.2, random_state=42).reset_index(drop=True)\n",
    "\n",
    "# Check the new size of the sampled dataset\n",
    "print(sampled_df.shape)\n"
   ]
  },
  {
   "cell_type": "code",
   "execution_count": 29,
   "metadata": {},
   "outputs": [
    {
     "data": {
      "text/plain": [
       "Class\n",
       "1    56976\n",
       "0    56750\n",
       "Name: count, dtype: int64"
      ]
     },
     "execution_count": 29,
     "metadata": {},
     "output_type": "execute_result"
    }
   ],
   "source": [
    "# distribution of legit transactions & fraudulent transactions\n",
    "sampled_df['Class'].value_counts()"
   ]
  },
  {
   "cell_type": "code",
   "execution_count": 31,
   "metadata": {},
   "outputs": [],
   "source": [
    "# Define X and y\n",
    "X = sampled_df.drop(['Class', 'id'], axis=1)  # Features: All columns except 'Class' and 'id'\n",
    "y = sampled_df['Class']  # Target: The 'Class' column\n"
   ]
  },
  {
   "cell_type": "code",
   "execution_count": 32,
   "metadata": {},
   "outputs": [
    {
     "name": "stdout",
     "output_type": "stream",
     "text": [
      "              V1        V2        V3        V4        V5        V6        V7  \\\n",
      "0       0.420468 -0.070194 -0.569266  0.191673 -0.009607  0.426903 -0.356728   \n",
      "1      -0.238944  0.250929 -0.374408  0.152938 -0.105008 -0.039028 -0.293004   \n",
      "2      -0.117796 -0.147961  2.130455 -0.325762  0.325616  0.271351  0.772625   \n",
      "3      -0.855315  0.137014 -0.628116  0.613733 -0.643573 -0.664283 -0.880040   \n",
      "4       0.257686  0.035247 -0.203112  0.506745 -0.242235 -0.192608 -0.289297   \n",
      "...          ...       ...       ...       ...       ...       ...       ...   \n",
      "113721 -0.104802  0.045428  0.038644 -0.886667  0.357363 -0.059002  0.501195   \n",
      "113722  1.905743 -0.843381  0.297507 -1.169977 -0.138574  0.252190  0.069402   \n",
      "113723  1.030669 -0.096882 -0.066725  0.090438  0.637344 -0.180606  0.564236   \n",
      "113724 -1.103332  0.227030 -1.039398  0.987433 -0.599574 -1.328186 -1.007141   \n",
      "113725  1.814899 -0.417634 -0.149198 -0.462595  0.450579 -0.144408  0.504644   \n",
      "\n",
      "              V8        V9       V10  ...       V20       V21       V22  \\\n",
      "0       0.096143  0.077806 -0.673283  ...  0.235116  0.134969  0.070433   \n",
      "1       0.133771 -0.591631 -0.651518  ...  0.332143  0.192405  0.289441   \n",
      "2      -0.244342  1.240012  0.414358  ...  0.110696 -0.271739 -0.404654   \n",
      "3       0.466586 -1.045508 -1.234377  ...  0.552311  0.405505  0.167560   \n",
      "4       0.044488 -0.396122 -0.370119  ...  0.124330  0.162191  0.165912   \n",
      "...          ...       ...       ...  ...       ...       ...       ...   \n",
      "113721  0.038375  0.428728  0.251114  ... -0.281260 -0.222162 -0.832192   \n",
      "113722 -0.131216  0.531646  1.095537  ... -0.261337  0.057356  1.114457   \n",
      "113723 -0.163710  0.642609 -0.035844  ... -0.301474 -0.237469 -0.656340   \n",
      "113724  0.667942 -1.195350 -1.181815  ...  0.170257  0.329490 -0.268697   \n",
      "113725 -0.213602  1.017705  0.419919  ... -0.388880 -0.043836  0.477505   \n",
      "\n",
      "             V23       V24       V25       V26       V27       V28    Amount  \n",
      "0       0.047770 -0.851622  0.102876 -0.375436  0.820807  0.665983   8633.18  \n",
      "1      -0.255187 -0.817462  0.308284  1.582688  0.574425  0.478489  12299.55  \n",
      "2      -0.121235  0.857659  0.541920  0.756534 -0.238177 -0.403038   5215.87  \n",
      "3       0.446262 -0.205976  0.492582  0.658619  1.609128 -0.025592  19282.98  \n",
      "4      -0.181999  0.331451  1.043095  0.029799  0.643273  0.736723  19114.27  \n",
      "...          ...       ...       ...       ...       ...       ...       ...  \n",
      "113721  0.184767  1.027624 -0.647166  0.306321 -0.129889 -0.106198   3145.20  \n",
      "113722  0.085434 -0.557571 -0.440371 -0.126494 -0.229723 -0.250865  20714.03  \n",
      "113723 -0.159048 -0.453543  1.034847 -0.704057 -0.143621  0.154522   8200.69  \n",
      "113724 -0.486943 -0.667790 -0.011172  1.164954  1.778844 -0.136778  15746.40  \n",
      "113725 -0.132996 -1.425451  0.419883 -0.100038 -0.247445 -0.194513  14633.64  \n",
      "\n",
      "[113726 rows x 29 columns] 0         1\n",
      "1         1\n",
      "2         0\n",
      "3         1\n",
      "4         1\n",
      "         ..\n",
      "113721    0\n",
      "113722    0\n",
      "113723    1\n",
      "113724    1\n",
      "113725    0\n",
      "Name: Class, Length: 113726, dtype: int64\n"
     ]
    }
   ],
   "source": [
    "print(X,y)"
   ]
  },
  {
   "cell_type": "code",
   "execution_count": 33,
   "metadata": {},
   "outputs": [
    {
     "name": "stdout",
     "output_type": "stream",
     "text": [
      "Model: XGB Classifier\n",
      "Accuracy: 99.96%\n",
      "Precision: 99.91%\n",
      "Recall: 100.0%\n",
      "F1 Score: 99.96%\n",
      "ROC AUC Score: 100.0%\n",
      "Confusion Matrix:\n",
      "[[11340    10]\n",
      " [    0 11396]]\n",
      "\n"
     ]
    },
    {
     "data": {
      "image/png": "[encoded data removed]",
      "text/plain": [
       "<Figure size 600x400 with 2 Axes>"
      ]
     },
     "metadata": {},
     "output_type": "display_data"
    },
    {
     "name": "stdout",
     "output_type": "stream",
     "text": [
      "Model saved as 'xgb_classifier_model.pkl'\n",
      "\n",
      "\n",
      "Model: Random Forest\n",
      "Accuracy: 99.94%\n",
      "Precision: 99.94%\n",
      "Recall: 99.94%\n",
      "F1 Score: 99.94%\n",
      "ROC AUC Score: 100.0%\n",
      "Confusion Matrix:\n",
      "[[11343     7]\n",
      " [    7 11389]]\n",
      "\n"
     ]
    },
    {
     "data": {
      "image/png": "[encoded data removed]",
      "text/plain": [
       "<Figure size 600x400 with 2 Axes>"
      ]
     },
     "metadata": {},
     "output_type": "display_data"
    },
    {
     "name": "stdout",
     "output_type": "stream",
     "text": [
      "Model saved as 'random_forest_model.pkl'\n",
      "\n",
      "\n",
      "Model: K-Nearest Neighbors\n",
      "Accuracy: 90.71%\n",
      "Precision: 97.05%\n",
      "Recall: 84.02%\n",
      "F1 Score: 90.07%\n",
      "ROC AUC Score: 94.47%\n",
      "Confusion Matrix:\n",
      "[[11059   291]\n",
      " [ 1821  9575]]\n",
      "\n"
     ]
    },
    {
     "data": {
      "image/png": "[encoded data removed]",
      "text/plain": [
       "<Figure size 600x400 with 2 Axes>"
      ]
     },
     "metadata": {},
     "output_type": "display_data"
    },
    {
     "name": "stdout",
     "output_type": "stream",
     "text": [
      "Model saved as 'k-nearest_neighbors_model.pkl'\n",
      "\n",
      "\n",
      "Model: SGD Classifier\n",
      "Accuracy: 73.01%\n",
      "Precision: 66.2%\n",
      "Recall: 94.24%\n",
      "F1 Score: 77.77%\n",
      "ROC AUC Score: 93.24%\n",
      "Confusion Matrix:\n",
      "[[ 5866  5484]\n",
      " [  656 10740]]\n",
      "\n"
     ]
    },
    {
     "data": {
      "image/png": "[encoded data removed]",
      "text/plain": [
       "<Figure size 600x400 with 2 Axes>"
      ]
     },
     "metadata": {},
     "output_type": "display_data"
    },
    {
     "name": "stdout",
     "output_type": "stream",
     "text": [
      "Model saved as 'sgd_classifier_model.pkl'\n",
      "\n",
      "\n",
      "Model: Decision Tree\n",
      "Accuracy: 99.24%\n",
      "Precision: 98.97%\n",
      "Recall: 99.51%\n",
      "F1 Score: 99.24%\n",
      "ROC AUC Score: 99.23%\n",
      "Confusion Matrix:\n",
      "[[11232   118]\n",
      " [   56 11340]]\n",
      "\n"
     ]
    },
    {
     "data": {
      "image/png": "[encoded data removed]",
      "text/plain": [
       "<Figure size 600x400 with 2 Axes>"
      ]
     },
     "metadata": {},
     "output_type": "display_data"
    },
    {
     "name": "stdout",
     "output_type": "stream",
     "text": [
      "Model saved as 'decision_tree_model.pkl'\n",
      "\n",
      "\n",
      "Model: Logistic Regression\n",
      "Accuracy: 96.56%\n",
      "Precision: 97.93%\n",
      "Recall: 95.15%\n",
      "F1 Score: 96.52%\n",
      "ROC AUC Score: 99.32%\n",
      "Confusion Matrix:\n",
      "[[11121   229]\n",
      " [  553 10843]]\n",
      "\n"
     ]
    },
    {
     "data": {
      "image/png": "[encoded data removed]",
      "text/plain": [
       "<Figure size 600x400 with 2 Axes>"
      ]
     },
     "metadata": {},
     "output_type": "display_data"
    },
    {
     "name": "stdout",
     "output_type": "stream",
     "text": [
      "Model saved as 'logistic_regression_model.pkl'\n",
      "\n",
      "\n",
      "Model: Naive Bayes\n",
      "Accuracy: 91.73%\n",
      "Precision: 98.02%\n",
      "Recall: 85.22%\n",
      "F1 Score: 91.18%\n",
      "ROC AUC Score: 97.69%\n",
      "Confusion Matrix:\n",
      "[[11154   196]\n",
      " [ 1684  9712]]\n",
      "\n"
     ]
    },
    {
     "data": {
      "image/png": "[encoded data removed]",
      "text/plain": [
       "<Figure size 600x400 with 2 Axes>"
      ]
     },
     "metadata": {},
     "output_type": "display_data"
    },
    {
     "name": "stdout",
     "output_type": "stream",
     "text": [
      "Model saved as 'naive_bayes_model.pkl'\n",
      "\n",
      "\n"
     ]
    }
   ],
   "source": [
    "# Split the dataset while preserving the class distribution\n",
    "X_train, X_test, y_train, y_test = train_test_split(X, y, test_size=0.2, stratify=y, random_state=42)\n",
    "\n",
    "# Define classifiers\n",
    "classifiers = [\n",
    "    [XGBClassifier(eval_metric='logloss', random_state=42), 'XGB Classifier'],\n",
    "    [RandomForestClassifier(random_state=42), 'Random Forest'],\n",
    "    [KNeighborsClassifier(), 'K-Nearest Neighbors'],\n",
    "    [SGDClassifier(random_state=42), 'SGD Classifier'],\n",
    "    [DecisionTreeClassifier(random_state=42), 'Decision Tree'],\n",
    "    [LogisticRegression(max_iter=10000, random_state=42), 'Logistic Regression'],\n",
    "    [GaussianNB(), 'Naive Bayes'],\n",
    "]\n",
    "\n",
    "# Initialize dictionaries to store metrics\n",
    "accuracy = {}\n",
    "precision = {}\n",
    "recall = {}\n",
    "f1 = {}\n",
    "roc = {}\n",
    "conf_matrix = {}\n",
    "\n",
    "# Loop through each classifier and calculate metrics\n",
    "for model, model_name in classifiers:\n",
    "    model.fit(X_train, y_train)\n",
    "    pred = model.predict(X_test)\n",
    "    \n",
    "    # If the classifier supports probability predictions, use them for ROC AUC score\n",
    "    if hasattr(model, \"predict_proba\"):\n",
    "        roc_score = roc_auc_score(y_test, model.predict_proba(X_test)[:, 1])\n",
    "    else:\n",
    "        roc_score = roc_auc_score(y_test, model.decision_function(X_test))\n",
    "    \n",
    "    a_score = accuracy_score(y_test, pred)\n",
    "    p_score = precision_score(y_test, pred)\n",
    "    r_score = recall_score(y_test, pred)\n",
    "    f_score = f1_score(y_test, pred)\n",
    "    c_matrix = confusion_matrix(y_test, pred)\n",
    "    \n",
    "    # Store metrics in dictionaries\n",
    "    accuracy[model_name] = f\"{round(a_score * 100, 2)}%\"\n",
    "    precision[model_name] = f\"{round(p_score * 100, 2)}%\"\n",
    "    recall[model_name] = f\"{round(r_score * 100, 2)}%\"\n",
    "    f1[model_name] = f\"{round(f_score * 100, 2)}%\"\n",
    "    roc[model_name] = f\"{round(roc_score * 100, 2)}%\"\n",
    "    conf_matrix[model_name] = c_matrix\n",
    "    \n",
    "    # Print model performance\n",
    "    print(f\"Model: {model_name}\")\n",
    "    print(f\"Accuracy: {accuracy[model_name]}\")\n",
    "    print(f\"Precision: {precision[model_name]}\")\n",
    "    print(f\"Recall: {recall[model_name]}\")\n",
    "    print(f\"F1 Score: {f1[model_name]}\")\n",
    "    print(f\"ROC AUC Score: {roc[model_name]}\")\n",
    "    print(f\"Confusion Matrix:\\n{c_matrix}\\n\")\n",
    "    \n",
    "    # Plot confusion matrix as a heatmap\n",
    "    plt.figure(figsize=(6, 4))\n",
    "    sns.heatmap(c_matrix, annot=True, fmt='d', cmap='YlGnBu')\n",
    "    plt.title(f'Confusion Matrix for {model_name}')\n",
    "    plt.xlabel('Predicted')\n",
    "    plt.ylabel('Actual')\n",
    "    plt.show()\n",
    "\n",
    "           # Save the model using joblib\n",
    "    filename = f\"{model_name.replace(' ', '_').lower()}_model.pkl\"\n",
    "    joblib.dump(model, filename)\n",
    "    print(f\"Model saved as '{filename}'\")\n",
    "\n",
    "    print('\\n')"
   ]
  },
  {
   "cell_type": "markdown",
   "metadata": {},
   "source": [
    "### Sample Dataset Overview\n",
    "The dataset has **113,726 rows** and **31 columns**, initially balanced with **56,750** non-fraudulent cases (Class `0`) and **56,976** fraudulent cases (Class `1`). While great for learning, this doesn’t match real-world scenarios where fraud is much rarer.\n",
    "\n",
    "### Creating Imbalance\n",
    "To reflect reality:\n",
    "- **Non-Fraudulent Transactions**: Kept all **56,750** rows.\n",
    "- **Fraudulent Transactions**: Reduced to **2,837 rows** (5% of non-fraud cases).\n",
    "\n",
    "### Resulting Imbalanced Dataset\n",
    "The modified dataset has **59,587 rows**:\n",
    "- **56,750** non-fraudulent cases (100% of original).\n",
    "- **2,837** fraudulent cases (a small subset).\n",
    "\n",
    "### Why the Imbalance?\n",
    "This setup mimics real-world fraud detection, where fraud is rare. It helps train a model that’s realistic, robust, and capable of identifying rare fraudulent events accurately, preparing it for real-world applications.\n"
   ]
  },
  {
   "cell_type": "code",
   "execution_count": 20,
   "metadata": {},
   "outputs": [
    {
     "name": "stdout",
     "output_type": "stream",
     "text": [
      "Class\n",
      "0    56750\n",
      "1     2837\n",
      "Name: count, dtype: int64\n"
     ]
    }
   ],
   "source": [
    "from sklearn.utils import resample\n",
    "\n",
    "\n",
    "# Separate the classes\n",
    "fraud_data = sampled_df[sampled_df['Class'] == 1]\n",
    "non_fraud_data = sampled_df[sampled_df['Class'] == 0]\n",
    "\n",
    "# Set a target ratio for fraud cases (5% of the non-fraud cases)\n",
    "fraud_ratio = 0.05\n",
    "n_fraud = int(fraud_ratio * len(non_fraud_data))\n",
    "\n",
    "# Downsample the fraudulent data to match the target ratio\n",
    "fraud_data_downsampled = resample(fraud_data,\n",
    "                                  replace=False,\n",
    "                                  n_samples=n_fraud,\n",
    "                                  random_state=42)\n",
    "\n",
    "# Combine the downsampled fraud data with all the non-fraud data\n",
    "imbalanced_df = pd.concat([non_fraud_data, fraud_data_downsampled])\n",
    "\n",
    "# Shuffle the dataset\n",
    "imbalanced_df = imbalanced_df.sample(frac=1, random_state=42).reset_index(drop=True)\n",
    "\n",
    "# Check the new distribution\n",
    "print(imbalanced_df['Class'].value_counts())b\n"
   ]
  },
  {
   "cell_type": "code",
   "execution_count": 23,
   "metadata": {},
   "outputs": [
    {
     "data": {
      "text/plain": [
       "(59587, 31)"
      ]
     },
     "execution_count": 23,
     "metadata": {},
     "output_type": "execute_result"
    }
   ],
   "source": [
    "imbalanced_df.shape"
   ]
  },
  {
   "cell_type": "markdown",
   "metadata": {},
   "source": [
    "\n",
    "Using the top 3 models (XGB Classifier, Random Forest, and Decision Tree) on the imbalanced dataset will provide insight into how well these models can handle real-world scenarios where fraudulent cases are rare."
   ]
  },
  {
   "cell_type": "code",
   "execution_count": 26,
   "metadata": {},
   "outputs": [
    {
     "name": "stdout",
     "output_type": "stream",
     "text": [
      "Model: XGB Classifier\n",
      "Accuracy: 99.77%\n",
      "Precision: 99.27%\n",
      "Recall: 95.77%\n",
      "F1 Score: 97.49%\n",
      "ROC AUC Score: 99.97%\n",
      "Confusion Matrix:\n",
      "[[11347     4]\n",
      " [   24   543]]\n",
      "\n"
     ]
    },
    {
     "data": {
      "image/png": "[encoded data removed]",
      "text/plain": [
       "<Figure size 600x400 with 2 Axes>"
      ]
     },
     "metadata": {},
     "output_type": "display_data"
    },
    {
     "name": "stdout",
     "output_type": "stream",
     "text": [
      "Model saved as 'xgb_classifier_model.pkl'\n",
      "\n",
      "\n",
      "Model: Random Forest\n",
      "Accuracy: 99.66%\n",
      "Precision: 99.44%\n",
      "Recall: 93.3%\n",
      "F1 Score: 96.27%\n",
      "ROC AUC Score: 99.67%\n",
      "Confusion Matrix:\n",
      "[[11348     3]\n",
      " [   38   529]]\n",
      "\n"
     ]
    },
    {
     "data": {
      "image/png": "[encoded data removed]",
      "text/plain": [
       "<Figure size 600x400 with 2 Axes>"
      ]
     },
     "metadata": {},
     "output_type": "display_data"
    },
    {
     "name": "stdout",
     "output_type": "stream",
     "text": [
      "Model saved as 'random_forest_model.pkl'\n",
      "\n",
      "\n",
      "Model: Decision Tree\n",
      "Accuracy: 99.38%\n",
      "Precision: 92.87%\n",
      "Recall: 94.18%\n",
      "F1 Score: 93.52%\n",
      "ROC AUC Score: 96.91%\n",
      "Confusion Matrix:\n",
      "[[11310    41]\n",
      " [   33   534]]\n",
      "\n"
     ]
    },
    {
     "data": {
      "image/png": "[encoded data removed]",
      "text/plain": [
       "<Figure size 600x400 with 2 Axes>"
      ]
     },
     "metadata": {},
     "output_type": "display_data"
    },
    {
     "name": "stdout",
     "output_type": "stream",
     "text": [
      "Model saved as 'decision_tree_model.pkl'\n",
      "\n",
      "\n"
     ]
    }
   ],
   "source": [
    "# Define the top 3 models\n",
    "classifiers = [\n",
    "    [XGBClassifier(eval_metric='logloss', random_state=42), 'XGB Classifier'],\n",
    "    [RandomForestClassifier(random_state=42), 'Random Forest'],\n",
    "    [DecisionTreeClassifier(random_state=42), 'Decision Tree']\n",
    "]\n",
    "\n",
    "# Split features and target for the imbalanced dataset\n",
    "X = imbalanced_df.drop(['Class', 'id'], axis=1)\n",
    "y = imbalanced_df['Class']\n",
    "\n",
    "# Split the imbalanced dataset\n",
    "X_train, X_test, y_train, y_test = train_test_split(X, y, test_size=0.2, stratify=y, random_state=42)\n",
    "\n",
    "# Initialize dictionaries to store metrics\n",
    "accuracy = {}\n",
    "precision = {}\n",
    "recall = {}\n",
    "f1 = {}\n",
    "roc = {}\n",
    "conf_matrix = {}\n",
    "\n",
    "# Loop through each classifier and calculate metrics\n",
    "for model, model_name in classifiers:\n",
    "    model.fit(X_train, y_train)\n",
    "    pred = model.predict(X_test)\n",
    "    \n",
    "    # If the classifier supports probability predictions, use them for ROC AUC score\n",
    "    if hasattr(model, \"predict_proba\"):\n",
    "        roc_score = roc_auc_score(y_test, model.predict_proba(X_test)[:, 1])\n",
    "    else:\n",
    "        roc_score = roc_auc_score(y_test, model.decision_function(X_test))\n",
    "    \n",
    "    a_score = accuracy_score(y_test, pred)\n",
    "    p_score = precision_score(y_test, pred)\n",
    "    r_score = recall_score(y_test, pred)\n",
    "    f_score = f1_score(y_test, pred)\n",
    "    c_matrix = confusion_matrix(y_test, pred)\n",
    "    \n",
    "    # Store metrics in dictionaries\n",
    "    accuracy[model_name] = f\"{round(a_score * 100, 2)}%\"\n",
    "    precision[model_name] = f\"{round(p_score * 100, 2)}%\"\n",
    "    recall[model_name] = f\"{round(r_score * 100, 2)}%\"\n",
    "    f1[model_name] = f\"{round(f_score * 100, 2)}%\"\n",
    "    roc[model_name] = f\"{round(roc_score * 100, 2)}%\"\n",
    "    conf_matrix[model_name] = c_matrix\n",
    "    \n",
    "    # Print model performance\n",
    "    print(f\"Model: {model_name}\")\n",
    "    print(f\"Accuracy: {accuracy[model_name]}\")\n",
    "    print(f\"Precision: {precision[model_name]}\")\n",
    "    print(f\"Recall: {recall[model_name]}\")\n",
    "    print(f\"F1 Score: {f1[model_name]}\")\n",
    "    print(f\"ROC AUC Score: {roc[model_name]}\")\n",
    "    print(f\"Confusion Matrix:\\n{c_matrix}\\n\")\n",
    "    \n",
    "    # Plot confusion matrix as a heatmap\n",
    "    plt.figure(figsize=(6, 4))\n",
    "    sns.heatmap(c_matrix, annot=True, fmt='d', cmap='YlGnBu')\n",
    "    plt.title(f'Confusion Matrix for {model_name}')\n",
    "    plt.xlabel('Predicted')\n",
    "    plt.ylabel('Actual')\n",
    "    plt.show()\n",
    "\n",
    "       # Save the model using joblib\n",
    "    filename = f\"{model_name.replace(' ', '_').lower()}_model.pkl\"\n",
    "    joblib.dump(model, filename)\n",
    "    print(f\"Model saved as '{filename}'\")\n",
    "\n",
    "    print('\\n')"
   ]
  },
  {
   "cell_type": "markdown",
   "metadata": {},
   "source": [
    "### Summary of Model Choice\n",
    "After testing multiple models, including XGB Classifier, Random Forest, and Decision Tree, on both balanced and imbalanced datasets, XGBoost emerged as the best model for the credit card fraud detection task.\n",
    "\n",
    "### Why XGBoost Was Chosen:\n",
    "* High Precision and Recall: XGBoost achieved the best balance between precision and recall, ensuring that it accurately identifies fraudulent transactions while minimizing false positives.\n",
    "\n",
    "* Best Performance Under Imbalanced Conditions: In the imbalanced dataset, XGBoost maintained a 99.77% accuracy, a 99.27% precision, and a 95.77% recall, with a ROC AUC score of 99.97%, making it the most effective at distinguishing between classes.\n",
    "\n",
    "* Consistency: Across different scenarios, XGBoost consistently outperformed other models\n",
    "This performance makes XGBoost the most suitable choice for deployment in a fraud detection system."
   ]
  },
  {
   "cell_type": "code",
   "execution_count": 27,
   "metadata": {},
   "outputs": [
    {
     "data": {
      "text/plain": [
       "Index(['id', 'V1', 'V2', 'V3', 'V4', 'V5', 'V6', 'V7', 'V8', 'V9', 'V10',\n",
       "       'V11', 'V12', 'V13', 'V14', 'V15', 'V16', 'V17', 'V18', 'V19', 'V20',\n",
       "       'V21', 'V22', 'V23', 'V24', 'V25', 'V26', 'V27', 'V28', 'Amount',\n",
       "       'Class'],\n",
       "      dtype='object')"
      ]
     },
     "execution_count": 27,
     "metadata": {},
     "output_type": "execute_result"
    }
   ],
   "source": [
    "imbalanced_df.columns"
   ]
  },
  {
   "cell_type": "code",
   "execution_count": null,
   "metadata": {},
   "outputs": [],
   "source": []
  },
  {
   "cell_type": "code",
   "execution_count": null,
   "metadata": {},
   "outputs": [],
   "source": []
  },
  {
   "cell_type": "code",
   "execution_count": null,
   "metadata": {},
   "outputs": [],
   "source": []
  },
  {
   "cell_type": "code",
   "execution_count": null,
   "metadata": {},
   "outputs": [],
   "source": []
  },
  {
   "cell_type": "code",
   "execution_count": null,
   "metadata": {},
   "outputs": [],
   "source": []
  },
  {
   "cell_type": "code",
   "execution_count": null,
   "metadata": {},
   "outputs": [],
   "source": []
  }
 ],
 "metadata": {
  "kernelspec": {
   "display_name": "Python 3",
   "language": "python",
   "name": "python3"
  },
  "language_info": {
   "codemirror_mode": {
    "name": "ipython",
    "version": 3
   },
   "file_extension": ".py",
   "mimetype": "text/x-python",
   "name": "python",
   "nbconvert_exporter": "python",
   "pygments_lexer": "ipython3",
   "version": "3.12.6"
  }
 },
 "nbformat": 4,
 "nbformat_minor": 2
}
